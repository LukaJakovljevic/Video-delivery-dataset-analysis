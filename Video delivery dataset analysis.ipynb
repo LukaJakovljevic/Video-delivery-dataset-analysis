{
 "cells": [
  {
   "cell_type": "markdown",
   "metadata": {},
   "source": [
    "# Video delivery dataset analysis\n",
    "\n",
    "### Dataset Information\n",
    "\n",
    "This dataset is measuring the data downloaded through **P2P** (peer to peer) and through the **CDN** (Content Delivery Network) by the viewers. \n",
    "\n",
    "\n",
    "\n",
    "\n",
    "### Content\n",
    "\n",
    "Each data point has the following dimension, represented with 6 variables:\n",
    "\n",
    "| Name | Description |\n",
    "| -----| ----- | \n",
    "| #stream |  ID of each stream |\n",
    "| isp |  Name of the Internet Service Provider |\n",
    "| browser |  Browser name |\n",
    "| connected |    Boolean value, true if the user is connected to the backend during his session |\n",
    "| p2p | Data downloaded through P2P (peer to peer) |\n",
    "| cdn | Data downloaded through CDN (Content Delivery Network) |\n",
    "\n",
    "\n",
    "### Goal\n",
    "\n",
    "The goal of this notebook is to explore the dataset and give recommendations as to where the service should be improved."
   ]
  },
  {
   "cell_type": "code",
   "execution_count": 1,
   "metadata": {},
   "outputs": [],
   "source": [
    "# importing Pandas library for data manipulation and analysis\n",
    "import pandas as pd"
   ]
  },
  {
   "cell_type": "code",
   "execution_count": 2,
   "metadata": {},
   "outputs": [],
   "source": [
    "# loading the dataset as df\n",
    "df =  pd.read_csv(\"data.csv\", index_col=0)"
   ]
  },
  {
   "cell_type": "code",
   "execution_count": 3,
   "metadata": {},
   "outputs": [
    {
     "data": {
      "text/html": [
       "<div>\n",
       "<style scoped>\n",
       "    .dataframe tbody tr th:only-of-type {\n",
       "        vertical-align: middle;\n",
       "    }\n",
       "\n",
       "    .dataframe tbody tr th {\n",
       "        vertical-align: top;\n",
       "    }\n",
       "\n",
       "    .dataframe thead th {\n",
       "        text-align: right;\n",
       "    }\n",
       "</style>\n",
       "<table border=\"1\" class=\"dataframe\">\n",
       "  <thead>\n",
       "    <tr style=\"text-align: right;\">\n",
       "      <th></th>\n",
       "      <th>isp</th>\n",
       "      <th>browser</th>\n",
       "      <th>connected</th>\n",
       "      <th>p2p</th>\n",
       "      <th>cdn</th>\n",
       "    </tr>\n",
       "    <tr>\n",
       "      <th>#stream</th>\n",
       "      <th></th>\n",
       "      <th></th>\n",
       "      <th></th>\n",
       "      <th></th>\n",
       "      <th></th>\n",
       "    </tr>\n",
       "  </thead>\n",
       "  <tbody>\n",
       "    <tr>\n",
       "      <th>1</th>\n",
       "      <td>Fro</td>\n",
       "      <td>Iron</td>\n",
       "      <td>True</td>\n",
       "      <td>195910.840977</td>\n",
       "      <td>109025.960619</td>\n",
       "    </tr>\n",
       "    <tr>\n",
       "      <th>1</th>\n",
       "      <td>Fro</td>\n",
       "      <td>EarthWolf</td>\n",
       "      <td>True</td>\n",
       "      <td>186711.522041</td>\n",
       "      <td>113744.856814</td>\n",
       "    </tr>\n",
       "    <tr>\n",
       "      <th>1</th>\n",
       "      <td>Arange</td>\n",
       "      <td>Iron</td>\n",
       "      <td>True</td>\n",
       "      <td>189428.293434</td>\n",
       "      <td>115944.246844</td>\n",
       "    </tr>\n",
       "    <tr>\n",
       "      <th>1</th>\n",
       "      <td>Arange</td>\n",
       "      <td>Iron</td>\n",
       "      <td>True</td>\n",
       "      <td>0.000000</td>\n",
       "      <td>307577.191067</td>\n",
       "    </tr>\n",
       "    <tr>\n",
       "      <th>1</th>\n",
       "      <td>BTP</td>\n",
       "      <td>EarthWolf</td>\n",
       "      <td>True</td>\n",
       "      <td>207246.640473</td>\n",
       "      <td>107010.608093</td>\n",
       "    </tr>\n",
       "  </tbody>\n",
       "</table>\n",
       "</div>"
      ],
      "text/plain": [
       "            isp    browser  connected            p2p            cdn\n",
       "#stream                                                            \n",
       "1           Fro       Iron       True  195910.840977  109025.960619\n",
       "1           Fro  EarthWolf       True  186711.522041  113744.856814\n",
       "1        Arange       Iron       True  189428.293434  115944.246844\n",
       "1        Arange       Iron       True       0.000000  307577.191067\n",
       "1           BTP  EarthWolf       True  207246.640473  107010.608093"
      ]
     },
     "execution_count": 3,
     "metadata": {},
     "output_type": "execute_result"
    }
   ],
   "source": [
    "# printing the first 5 rows\n",
    "df.head(5)"
   ]
  },
  {
   "cell_type": "code",
   "execution_count": 4,
   "metadata": {
    "scrolled": true
   },
   "outputs": [
    {
     "name": "stdout",
     "output_type": "stream",
     "text": [
      "<class 'pandas.core.frame.DataFrame'>\n",
      "Int64Index: 534954 entries, 1 to 9\n",
      "Data columns (total 5 columns):\n",
      "isp          534954 non-null object\n",
      "browser      534954 non-null object\n",
      "connected    534954 non-null bool\n",
      "p2p          534954 non-null float64\n",
      "cdn          534953 non-null float64\n",
      "dtypes: bool(1), float64(2), object(2)\n",
      "memory usage: 20.9+ MB\n"
     ]
    }
   ],
   "source": [
    "#trying to figure out the scope of the dataset and if there are NaN fields\n",
    "df.info()"
   ]
  },
  {
   "cell_type": "markdown",
   "metadata": {},
   "source": [
    "There is around 535K data points, separated into 9 streams"
   ]
  },
  {
   "cell_type": "code",
   "execution_count": 5,
   "metadata": {},
   "outputs": [
    {
     "data": {
      "text/html": [
       "<div>\n",
       "<style scoped>\n",
       "    .dataframe tbody tr th:only-of-type {\n",
       "        vertical-align: middle;\n",
       "    }\n",
       "\n",
       "    .dataframe tbody tr th {\n",
       "        vertical-align: top;\n",
       "    }\n",
       "\n",
       "    .dataframe thead th {\n",
       "        text-align: right;\n",
       "    }\n",
       "</style>\n",
       "<table border=\"1\" class=\"dataframe\">\n",
       "  <thead>\n",
       "    <tr style=\"text-align: right;\">\n",
       "      <th></th>\n",
       "      <th>p2p</th>\n",
       "      <th>cdn</th>\n",
       "    </tr>\n",
       "  </thead>\n",
       "  <tbody>\n",
       "    <tr>\n",
       "      <th>count</th>\n",
       "      <td>5.349540e+05</td>\n",
       "      <td>5.349530e+05</td>\n",
       "    </tr>\n",
       "    <tr>\n",
       "      <th>mean</th>\n",
       "      <td>3.540061e+06</td>\n",
       "      <td>1.532365e+07</td>\n",
       "    </tr>\n",
       "    <tr>\n",
       "      <th>std</th>\n",
       "      <td>1.243739e+07</td>\n",
       "      <td>3.328645e+07</td>\n",
       "    </tr>\n",
       "    <tr>\n",
       "      <th>min</th>\n",
       "      <td>0.000000e+00</td>\n",
       "      <td>2.851538e+03</td>\n",
       "    </tr>\n",
       "    <tr>\n",
       "      <th>25%</th>\n",
       "      <td>0.000000e+00</td>\n",
       "      <td>7.726825e+04</td>\n",
       "    </tr>\n",
       "    <tr>\n",
       "      <th>50%</th>\n",
       "      <td>1.247840e+05</td>\n",
       "      <td>1.901855e+05</td>\n",
       "    </tr>\n",
       "    <tr>\n",
       "      <th>75%</th>\n",
       "      <td>1.941179e+05</td>\n",
       "      <td>2.071052e+05</td>\n",
       "    </tr>\n",
       "    <tr>\n",
       "      <th>max</th>\n",
       "      <td>5.249998e+07</td>\n",
       "      <td>1.049986e+08</td>\n",
       "    </tr>\n",
       "  </tbody>\n",
       "</table>\n",
       "</div>"
      ],
      "text/plain": [
       "                p2p           cdn\n",
       "count  5.349540e+05  5.349530e+05\n",
       "mean   3.540061e+06  1.532365e+07\n",
       "std    1.243739e+07  3.328645e+07\n",
       "min    0.000000e+00  2.851538e+03\n",
       "25%    0.000000e+00  7.726825e+04\n",
       "50%    1.247840e+05  1.901855e+05\n",
       "75%    1.941179e+05  2.071052e+05\n",
       "max    5.249998e+07  1.049986e+08"
      ]
     },
     "execution_count": 5,
     "metadata": {},
     "output_type": "execute_result"
    }
   ],
   "source": [
    "df.describe()"
   ]
  },
  {
   "cell_type": "markdown",
   "metadata": {},
   "source": [
    "Here, we can conclude several things:\n",
    "* Data downloaded through CDN is never zero, at any point;\n",
    "* Huge number of P2P data points are zero;\n",
    "* The amount of the data sent through CDN is generally larger than the ones sent via P2P."
   ]
  },
  {
   "cell_type": "code",
   "execution_count": 6,
   "metadata": {},
   "outputs": [
    {
     "data": {
      "text/html": [
       "<div>\n",
       "<style scoped>\n",
       "    .dataframe tbody tr th:only-of-type {\n",
       "        vertical-align: middle;\n",
       "    }\n",
       "\n",
       "    .dataframe tbody tr th {\n",
       "        vertical-align: top;\n",
       "    }\n",
       "\n",
       "    .dataframe thead th {\n",
       "        text-align: right;\n",
       "    }\n",
       "</style>\n",
       "<table border=\"1\" class=\"dataframe\">\n",
       "  <thead>\n",
       "    <tr style=\"text-align: right;\">\n",
       "      <th></th>\n",
       "      <th>isp</th>\n",
       "      <th>browser</th>\n",
       "    </tr>\n",
       "  </thead>\n",
       "  <tbody>\n",
       "    <tr>\n",
       "      <th>count</th>\n",
       "      <td>534954</td>\n",
       "      <td>534954</td>\n",
       "    </tr>\n",
       "    <tr>\n",
       "      <th>unique</th>\n",
       "      <td>5</td>\n",
       "      <td>4</td>\n",
       "    </tr>\n",
       "    <tr>\n",
       "      <th>top</th>\n",
       "      <td>Arange</td>\n",
       "      <td>EarthWolf</td>\n",
       "    </tr>\n",
       "    <tr>\n",
       "      <th>freq</th>\n",
       "      <td>165341</td>\n",
       "      <td>283311</td>\n",
       "    </tr>\n",
       "  </tbody>\n",
       "</table>\n",
       "</div>"
      ],
      "text/plain": [
       "           isp    browser\n",
       "count   534954     534954\n",
       "unique       5          4\n",
       "top     Arange  EarthWolf\n",
       "freq    165341     283311"
      ]
     },
     "execution_count": 6,
     "metadata": {},
     "output_type": "execute_result"
    }
   ],
   "source": [
    "df.describe(include=['O'])"
   ]
  },
  {
   "cell_type": "markdown",
   "metadata": {},
   "source": [
    "## There are 5 different ISPs and 4 different browsers, lets see which ones:"
   ]
  },
  {
   "cell_type": "code",
   "execution_count": 7,
   "metadata": {},
   "outputs": [
    {
     "data": {
      "text/html": [
       "<div>\n",
       "<style scoped>\n",
       "    .dataframe tbody tr th:only-of-type {\n",
       "        vertical-align: middle;\n",
       "    }\n",
       "\n",
       "    .dataframe tbody tr th {\n",
       "        vertical-align: top;\n",
       "    }\n",
       "\n",
       "    .dataframe thead th {\n",
       "        text-align: right;\n",
       "    }\n",
       "</style>\n",
       "<table border=\"1\" class=\"dataframe\">\n",
       "  <thead>\n",
       "    <tr style=\"text-align: right;\">\n",
       "      <th></th>\n",
       "      <th>browser</th>\n",
       "      <th>connected</th>\n",
       "      <th>p2p</th>\n",
       "      <th>cdn</th>\n",
       "    </tr>\n",
       "    <tr>\n",
       "      <th>isp</th>\n",
       "      <th></th>\n",
       "      <th></th>\n",
       "      <th></th>\n",
       "      <th></th>\n",
       "    </tr>\n",
       "  </thead>\n",
       "  <tbody>\n",
       "    <tr>\n",
       "      <th>Arange</th>\n",
       "      <td>165341</td>\n",
       "      <td>165341</td>\n",
       "      <td>165341</td>\n",
       "      <td>165341</td>\n",
       "    </tr>\n",
       "    <tr>\n",
       "      <th>Fro</th>\n",
       "      <td>149789</td>\n",
       "      <td>149789</td>\n",
       "      <td>149789</td>\n",
       "      <td>149789</td>\n",
       "    </tr>\n",
       "    <tr>\n",
       "      <th>BTP</th>\n",
       "      <td>130317</td>\n",
       "      <td>130317</td>\n",
       "      <td>130317</td>\n",
       "      <td>130316</td>\n",
       "    </tr>\n",
       "    <tr>\n",
       "      <th>Datch Telecam</th>\n",
       "      <td>45655</td>\n",
       "      <td>45655</td>\n",
       "      <td>45655</td>\n",
       "      <td>45655</td>\n",
       "    </tr>\n",
       "    <tr>\n",
       "      <th>Olga</th>\n",
       "      <td>43852</td>\n",
       "      <td>43852</td>\n",
       "      <td>43852</td>\n",
       "      <td>43852</td>\n",
       "    </tr>\n",
       "  </tbody>\n",
       "</table>\n",
       "</div>"
      ],
      "text/plain": [
       "               browser  connected     p2p     cdn\n",
       "isp                                              \n",
       "Arange          165341     165341  165341  165341\n",
       "Fro             149789     149789  149789  149789\n",
       "BTP             130317     130317  130317  130316\n",
       "Datch Telecam    45655      45655   45655   45655\n",
       "Olga             43852      43852   43852   43852"
      ]
     },
     "execution_count": 7,
     "metadata": {},
     "output_type": "execute_result"
    }
   ],
   "source": [
    "df.groupby('isp').count().sort_values(by='browser', ascending=False)"
   ]
  },
  {
   "cell_type": "code",
   "execution_count": 8,
   "metadata": {},
   "outputs": [
    {
     "data": {
      "text/html": [
       "<div>\n",
       "<style scoped>\n",
       "    .dataframe tbody tr th:only-of-type {\n",
       "        vertical-align: middle;\n",
       "    }\n",
       "\n",
       "    .dataframe tbody tr th {\n",
       "        vertical-align: top;\n",
       "    }\n",
       "\n",
       "    .dataframe thead th {\n",
       "        text-align: right;\n",
       "    }\n",
       "</style>\n",
       "<table border=\"1\" class=\"dataframe\">\n",
       "  <thead>\n",
       "    <tr style=\"text-align: right;\">\n",
       "      <th></th>\n",
       "      <th>isp</th>\n",
       "      <th>connected</th>\n",
       "      <th>p2p</th>\n",
       "      <th>cdn</th>\n",
       "    </tr>\n",
       "    <tr>\n",
       "      <th>browser</th>\n",
       "      <th></th>\n",
       "      <th></th>\n",
       "      <th></th>\n",
       "      <th></th>\n",
       "    </tr>\n",
       "  </thead>\n",
       "  <tbody>\n",
       "    <tr>\n",
       "      <th>EarthWolf</th>\n",
       "      <td>283311</td>\n",
       "      <td>283311</td>\n",
       "      <td>283311</td>\n",
       "      <td>283310</td>\n",
       "    </tr>\n",
       "    <tr>\n",
       "      <th>Iron</th>\n",
       "      <td>217246</td>\n",
       "      <td>217246</td>\n",
       "      <td>217246</td>\n",
       "      <td>217246</td>\n",
       "    </tr>\n",
       "    <tr>\n",
       "      <th>Vectrice</th>\n",
       "      <td>20970</td>\n",
       "      <td>20970</td>\n",
       "      <td>20970</td>\n",
       "      <td>20970</td>\n",
       "    </tr>\n",
       "    <tr>\n",
       "      <th>Swamp</th>\n",
       "      <td>13427</td>\n",
       "      <td>13427</td>\n",
       "      <td>13427</td>\n",
       "      <td>13427</td>\n",
       "    </tr>\n",
       "  </tbody>\n",
       "</table>\n",
       "</div>"
      ],
      "text/plain": [
       "              isp  connected     p2p     cdn\n",
       "browser                                     \n",
       "EarthWolf  283311     283311  283311  283310\n",
       "Iron       217246     217246  217246  217246\n",
       "Vectrice    20970      20970   20970   20970\n",
       "Swamp       13427      13427   13427   13427"
      ]
     },
     "execution_count": 8,
     "metadata": {},
     "output_type": "execute_result"
    }
   ],
   "source": [
    "df.groupby('browser').count().sort_values(by='isp', ascending=False)"
   ]
  },
  {
   "cell_type": "markdown",
   "metadata": {},
   "source": [
    "## Connection to the backend\n",
    "\n",
    "**Conclusions:**\n",
    "* about 9.2% of data points didn't manage to connect to backend;\n",
    "* one ISP had the biggest issue with connection - Datch Telecam;\n",
    "* one browser had slight problems with connection - Iron;\n",
    "* when there was not a connection to the backend, there was no data sent over P2P network."
   ]
  },
  {
   "cell_type": "code",
   "execution_count": 9,
   "metadata": {},
   "outputs": [
    {
     "data": {
      "text/html": [
       "<div>\n",
       "<style scoped>\n",
       "    .dataframe tbody tr th:only-of-type {\n",
       "        vertical-align: middle;\n",
       "    }\n",
       "\n",
       "    .dataframe tbody tr th {\n",
       "        vertical-align: top;\n",
       "    }\n",
       "\n",
       "    .dataframe thead th {\n",
       "        text-align: right;\n",
       "    }\n",
       "</style>\n",
       "<table border=\"1\" class=\"dataframe\">\n",
       "  <thead>\n",
       "    <tr style=\"text-align: right;\">\n",
       "      <th></th>\n",
       "      <th>isp</th>\n",
       "      <th>browser</th>\n",
       "      <th>p2p</th>\n",
       "      <th>cdn</th>\n",
       "    </tr>\n",
       "    <tr>\n",
       "      <th>connected</th>\n",
       "      <th></th>\n",
       "      <th></th>\n",
       "      <th></th>\n",
       "      <th></th>\n",
       "    </tr>\n",
       "  </thead>\n",
       "  <tbody>\n",
       "    <tr>\n",
       "      <th>True</th>\n",
       "      <td>485753</td>\n",
       "      <td>485753</td>\n",
       "      <td>485753</td>\n",
       "      <td>485752</td>\n",
       "    </tr>\n",
       "    <tr>\n",
       "      <th>False</th>\n",
       "      <td>49201</td>\n",
       "      <td>49201</td>\n",
       "      <td>49201</td>\n",
       "      <td>49201</td>\n",
       "    </tr>\n",
       "  </tbody>\n",
       "</table>\n",
       "</div>"
      ],
      "text/plain": [
       "              isp  browser     p2p     cdn\n",
       "connected                                 \n",
       "True       485753   485753  485753  485752\n",
       "False       49201    49201   49201   49201"
      ]
     },
     "execution_count": 9,
     "metadata": {},
     "output_type": "execute_result"
    }
   ],
   "source": [
    "df.groupby('connected').count().sort_values(by='cdn', ascending=False)"
   ]
  },
  {
   "cell_type": "code",
   "execution_count": 10,
   "metadata": {},
   "outputs": [
    {
     "data": {
      "text/html": [
       "<div>\n",
       "<style scoped>\n",
       "    .dataframe tbody tr th:only-of-type {\n",
       "        vertical-align: middle;\n",
       "    }\n",
       "\n",
       "    .dataframe tbody tr th {\n",
       "        vertical-align: top;\n",
       "    }\n",
       "\n",
       "    .dataframe thead th {\n",
       "        text-align: right;\n",
       "    }\n",
       "</style>\n",
       "<table border=\"1\" class=\"dataframe\">\n",
       "  <thead>\n",
       "    <tr style=\"text-align: right;\">\n",
       "      <th></th>\n",
       "      <th>isp</th>\n",
       "      <th>connected</th>\n",
       "    </tr>\n",
       "  </thead>\n",
       "  <tbody>\n",
       "    <tr>\n",
       "      <th>1</th>\n",
       "      <td>BTP</td>\n",
       "      <td>0.998941</td>\n",
       "    </tr>\n",
       "    <tr>\n",
       "      <th>0</th>\n",
       "      <td>Arange</td>\n",
       "      <td>0.990075</td>\n",
       "    </tr>\n",
       "    <tr>\n",
       "      <th>3</th>\n",
       "      <td>Fro</td>\n",
       "      <td>0.949769</td>\n",
       "    </tr>\n",
       "    <tr>\n",
       "      <th>4</th>\n",
       "      <td>Olga</td>\n",
       "      <td>0.920574</td>\n",
       "    </tr>\n",
       "    <tr>\n",
       "      <th>2</th>\n",
       "      <td>Datch Telecam</td>\n",
       "      <td>0.202387</td>\n",
       "    </tr>\n",
       "  </tbody>\n",
       "</table>\n",
       "</div>"
      ],
      "text/plain": [
       "             isp  connected\n",
       "1            BTP   0.998941\n",
       "0         Arange   0.990075\n",
       "3            Fro   0.949769\n",
       "4           Olga   0.920574\n",
       "2  Datch Telecam   0.202387"
      ]
     },
     "execution_count": 10,
     "metadata": {},
     "output_type": "execute_result"
    }
   ],
   "source": [
    "df[['isp', 'connected']].groupby(['isp'], as_index=False).mean().sort_values(by='connected', ascending=False)"
   ]
  },
  {
   "cell_type": "code",
   "execution_count": 11,
   "metadata": {},
   "outputs": [
    {
     "data": {
      "text/html": [
       "<div>\n",
       "<style scoped>\n",
       "    .dataframe tbody tr th:only-of-type {\n",
       "        vertical-align: middle;\n",
       "    }\n",
       "\n",
       "    .dataframe tbody tr th {\n",
       "        vertical-align: top;\n",
       "    }\n",
       "\n",
       "    .dataframe thead th {\n",
       "        text-align: right;\n",
       "    }\n",
       "</style>\n",
       "<table border=\"1\" class=\"dataframe\">\n",
       "  <thead>\n",
       "    <tr style=\"text-align: right;\">\n",
       "      <th></th>\n",
       "      <th>browser</th>\n",
       "      <th>connected</th>\n",
       "    </tr>\n",
       "  </thead>\n",
       "  <tbody>\n",
       "    <tr>\n",
       "      <th>3</th>\n",
       "      <td>Vectrice</td>\n",
       "      <td>0.952742</td>\n",
       "    </tr>\n",
       "    <tr>\n",
       "      <th>0</th>\n",
       "      <td>EarthWolf</td>\n",
       "      <td>0.915019</td>\n",
       "    </tr>\n",
       "    <tr>\n",
       "      <th>2</th>\n",
       "      <td>Swamp</td>\n",
       "      <td>0.904074</td>\n",
       "    </tr>\n",
       "    <tr>\n",
       "      <th>1</th>\n",
       "      <td>Iron</td>\n",
       "      <td>0.894838</td>\n",
       "    </tr>\n",
       "  </tbody>\n",
       "</table>\n",
       "</div>"
      ],
      "text/plain": [
       "     browser  connected\n",
       "3   Vectrice   0.952742\n",
       "0  EarthWolf   0.915019\n",
       "2      Swamp   0.904074\n",
       "1       Iron   0.894838"
      ]
     },
     "execution_count": 11,
     "metadata": {},
     "output_type": "execute_result"
    }
   ],
   "source": [
    "df[['browser', 'connected']].groupby(['browser'], as_index=False).mean().sort_values(by='connected', ascending=False)"
   ]
  },
  {
   "cell_type": "code",
   "execution_count": 12,
   "metadata": {
    "scrolled": true
   },
   "outputs": [
    {
     "data": {
      "text/html": [
       "<div>\n",
       "<style scoped>\n",
       "    .dataframe tbody tr th:only-of-type {\n",
       "        vertical-align: middle;\n",
       "    }\n",
       "\n",
       "    .dataframe tbody tr th {\n",
       "        vertical-align: top;\n",
       "    }\n",
       "\n",
       "    .dataframe thead th {\n",
       "        text-align: right;\n",
       "    }\n",
       "</style>\n",
       "<table border=\"1\" class=\"dataframe\">\n",
       "  <thead>\n",
       "    <tr style=\"text-align: right;\">\n",
       "      <th></th>\n",
       "      <th>cdn</th>\n",
       "      <th>connected</th>\n",
       "    </tr>\n",
       "  </thead>\n",
       "  <tbody>\n",
       "    <tr>\n",
       "      <th>0</th>\n",
       "      <td>2851.537913</td>\n",
       "      <td>True</td>\n",
       "    </tr>\n",
       "    <tr>\n",
       "      <th>346453</th>\n",
       "      <td>200182.485179</td>\n",
       "      <td>True</td>\n",
       "    </tr>\n",
       "    <tr>\n",
       "      <th>346470</th>\n",
       "      <td>200184.567932</td>\n",
       "      <td>True</td>\n",
       "    </tr>\n",
       "    <tr>\n",
       "      <th>346469</th>\n",
       "      <td>200184.496332</td>\n",
       "      <td>True</td>\n",
       "    </tr>\n",
       "    <tr>\n",
       "      <th>346468</th>\n",
       "      <td>200184.432209</td>\n",
       "      <td>True</td>\n",
       "    </tr>\n",
       "    <tr>\n",
       "      <th>346467</th>\n",
       "      <td>200184.176776</td>\n",
       "      <td>True</td>\n",
       "    </tr>\n",
       "    <tr>\n",
       "      <th>346465</th>\n",
       "      <td>200183.950577</td>\n",
       "      <td>True</td>\n",
       "    </tr>\n",
       "    <tr>\n",
       "      <th>346464</th>\n",
       "      <td>200183.919059</td>\n",
       "      <td>True</td>\n",
       "    </tr>\n",
       "    <tr>\n",
       "      <th>346462</th>\n",
       "      <td>200183.651942</td>\n",
       "      <td>True</td>\n",
       "    </tr>\n",
       "    <tr>\n",
       "      <th>346461</th>\n",
       "      <td>200183.627940</td>\n",
       "      <td>True</td>\n",
       "    </tr>\n",
       "    <tr>\n",
       "      <th>346460</th>\n",
       "      <td>200183.262007</td>\n",
       "      <td>True</td>\n",
       "    </tr>\n",
       "    <tr>\n",
       "      <th>346459</th>\n",
       "      <td>200183.248212</td>\n",
       "      <td>True</td>\n",
       "    </tr>\n",
       "    <tr>\n",
       "      <th>346458</th>\n",
       "      <td>200183.005495</td>\n",
       "      <td>True</td>\n",
       "    </tr>\n",
       "    <tr>\n",
       "      <th>346457</th>\n",
       "      <td>200182.992001</td>\n",
       "      <td>True</td>\n",
       "    </tr>\n",
       "    <tr>\n",
       "      <th>346452</th>\n",
       "      <td>200182.375527</td>\n",
       "      <td>True</td>\n",
       "    </tr>\n",
       "    <tr>\n",
       "      <th>346475</th>\n",
       "      <td>200185.121044</td>\n",
       "      <td>True</td>\n",
       "    </tr>\n",
       "    <tr>\n",
       "      <th>346450</th>\n",
       "      <td>200181.794313</td>\n",
       "      <td>True</td>\n",
       "    </tr>\n",
       "    <tr>\n",
       "      <th>346449</th>\n",
       "      <td>200181.788105</td>\n",
       "      <td>True</td>\n",
       "    </tr>\n",
       "    <tr>\n",
       "      <th>346448</th>\n",
       "      <td>200181.694952</td>\n",
       "      <td>True</td>\n",
       "    </tr>\n",
       "    <tr>\n",
       "      <th>346446</th>\n",
       "      <td>200181.523684</td>\n",
       "      <td>True</td>\n",
       "    </tr>\n",
       "    <tr>\n",
       "      <th>346445</th>\n",
       "      <td>200181.425337</td>\n",
       "      <td>True</td>\n",
       "    </tr>\n",
       "    <tr>\n",
       "      <th>346442</th>\n",
       "      <td>200180.866989</td>\n",
       "      <td>True</td>\n",
       "    </tr>\n",
       "    <tr>\n",
       "      <th>346441</th>\n",
       "      <td>200180.863672</td>\n",
       "      <td>True</td>\n",
       "    </tr>\n",
       "    <tr>\n",
       "      <th>346439</th>\n",
       "      <td>200180.372994</td>\n",
       "      <td>True</td>\n",
       "    </tr>\n",
       "    <tr>\n",
       "      <th>346438</th>\n",
       "      <td>200180.009150</td>\n",
       "      <td>True</td>\n",
       "    </tr>\n",
       "    <tr>\n",
       "      <th>346437</th>\n",
       "      <td>200179.926937</td>\n",
       "      <td>True</td>\n",
       "    </tr>\n",
       "    <tr>\n",
       "      <th>346436</th>\n",
       "      <td>200179.895299</td>\n",
       "      <td>True</td>\n",
       "    </tr>\n",
       "    <tr>\n",
       "      <th>346434</th>\n",
       "      <td>200179.671481</td>\n",
       "      <td>True</td>\n",
       "    </tr>\n",
       "    <tr>\n",
       "      <th>346472</th>\n",
       "      <td>200184.719148</td>\n",
       "      <td>True</td>\n",
       "    </tr>\n",
       "    <tr>\n",
       "      <th>346477</th>\n",
       "      <td>200185.330124</td>\n",
       "      <td>True</td>\n",
       "    </tr>\n",
       "    <tr>\n",
       "      <th>...</th>\n",
       "      <td>...</td>\n",
       "      <td>...</td>\n",
       "    </tr>\n",
       "    <tr>\n",
       "      <th>278576</th>\n",
       "      <td>191582.612398</td>\n",
       "      <td>False</td>\n",
       "    </tr>\n",
       "    <tr>\n",
       "      <th>410495</th>\n",
       "      <td>208282.933617</td>\n",
       "      <td>False</td>\n",
       "    </tr>\n",
       "    <tr>\n",
       "      <th>339174</th>\n",
       "      <td>199260.809393</td>\n",
       "      <td>False</td>\n",
       "    </tr>\n",
       "    <tr>\n",
       "      <th>278600</th>\n",
       "      <td>191585.026347</td>\n",
       "      <td>False</td>\n",
       "    </tr>\n",
       "    <tr>\n",
       "      <th>278603</th>\n",
       "      <td>191585.278560</td>\n",
       "      <td>False</td>\n",
       "    </tr>\n",
       "    <tr>\n",
       "      <th>278604</th>\n",
       "      <td>191585.330483</td>\n",
       "      <td>False</td>\n",
       "    </tr>\n",
       "    <tr>\n",
       "      <th>356523</th>\n",
       "      <td>201460.652809</td>\n",
       "      <td>False</td>\n",
       "    </tr>\n",
       "    <tr>\n",
       "      <th>433642</th>\n",
       "      <td>311158.135583</td>\n",
       "      <td>False</td>\n",
       "    </tr>\n",
       "    <tr>\n",
       "      <th>278626</th>\n",
       "      <td>191588.269087</td>\n",
       "      <td>False</td>\n",
       "    </tr>\n",
       "    <tr>\n",
       "      <th>410530</th>\n",
       "      <td>208286.641035</td>\n",
       "      <td>False</td>\n",
       "    </tr>\n",
       "    <tr>\n",
       "      <th>309552</th>\n",
       "      <td>195513.761906</td>\n",
       "      <td>False</td>\n",
       "    </tr>\n",
       "    <tr>\n",
       "      <th>356527</th>\n",
       "      <td>201461.566877</td>\n",
       "      <td>False</td>\n",
       "    </tr>\n",
       "    <tr>\n",
       "      <th>278622</th>\n",
       "      <td>191588.133387</td>\n",
       "      <td>False</td>\n",
       "    </tr>\n",
       "    <tr>\n",
       "      <th>278621</th>\n",
       "      <td>191587.676320</td>\n",
       "      <td>False</td>\n",
       "    </tr>\n",
       "    <tr>\n",
       "      <th>278620</th>\n",
       "      <td>191587.539917</td>\n",
       "      <td>False</td>\n",
       "    </tr>\n",
       "    <tr>\n",
       "      <th>356528</th>\n",
       "      <td>201461.644721</td>\n",
       "      <td>False</td>\n",
       "    </tr>\n",
       "    <tr>\n",
       "      <th>309554</th>\n",
       "      <td>195513.987622</td>\n",
       "      <td>False</td>\n",
       "    </tr>\n",
       "    <tr>\n",
       "      <th>410524</th>\n",
       "      <td>208285.872940</td>\n",
       "      <td>False</td>\n",
       "    </tr>\n",
       "    <tr>\n",
       "      <th>433645</th>\n",
       "      <td>311165.225242</td>\n",
       "      <td>False</td>\n",
       "    </tr>\n",
       "    <tr>\n",
       "      <th>356532</th>\n",
       "      <td>201462.017826</td>\n",
       "      <td>False</td>\n",
       "    </tr>\n",
       "    <tr>\n",
       "      <th>278613</th>\n",
       "      <td>191586.475838</td>\n",
       "      <td>False</td>\n",
       "    </tr>\n",
       "    <tr>\n",
       "      <th>278612</th>\n",
       "      <td>191586.446807</td>\n",
       "      <td>False</td>\n",
       "    </tr>\n",
       "    <tr>\n",
       "      <th>309556</th>\n",
       "      <td>195514.218015</td>\n",
       "      <td>False</td>\n",
       "    </tr>\n",
       "    <tr>\n",
       "      <th>309557</th>\n",
       "      <td>195514.275670</td>\n",
       "      <td>False</td>\n",
       "    </tr>\n",
       "    <tr>\n",
       "      <th>278609</th>\n",
       "      <td>191585.622116</td>\n",
       "      <td>False</td>\n",
       "    </tr>\n",
       "    <tr>\n",
       "      <th>410519</th>\n",
       "      <td>208285.485187</td>\n",
       "      <td>False</td>\n",
       "    </tr>\n",
       "    <tr>\n",
       "      <th>278607</th>\n",
       "      <td>191585.557746</td>\n",
       "      <td>False</td>\n",
       "    </tr>\n",
       "    <tr>\n",
       "      <th>410518</th>\n",
       "      <td>208285.086694</td>\n",
       "      <td>False</td>\n",
       "    </tr>\n",
       "    <tr>\n",
       "      <th>309558</th>\n",
       "      <td>195514.332590</td>\n",
       "      <td>False</td>\n",
       "    </tr>\n",
       "    <tr>\n",
       "      <th>413840</th>\n",
       "      <td>208710.861948</td>\n",
       "      <td>False</td>\n",
       "    </tr>\n",
       "  </tbody>\n",
       "</table>\n",
       "<p>534953 rows × 2 columns</p>\n",
       "</div>"
      ],
      "text/plain": [
       "                  cdn  connected\n",
       "0         2851.537913       True\n",
       "346453  200182.485179       True\n",
       "346470  200184.567932       True\n",
       "346469  200184.496332       True\n",
       "346468  200184.432209       True\n",
       "346467  200184.176776       True\n",
       "346465  200183.950577       True\n",
       "346464  200183.919059       True\n",
       "346462  200183.651942       True\n",
       "346461  200183.627940       True\n",
       "346460  200183.262007       True\n",
       "346459  200183.248212       True\n",
       "346458  200183.005495       True\n",
       "346457  200182.992001       True\n",
       "346452  200182.375527       True\n",
       "346475  200185.121044       True\n",
       "346450  200181.794313       True\n",
       "346449  200181.788105       True\n",
       "346448  200181.694952       True\n",
       "346446  200181.523684       True\n",
       "346445  200181.425337       True\n",
       "346442  200180.866989       True\n",
       "346441  200180.863672       True\n",
       "346439  200180.372994       True\n",
       "346438  200180.009150       True\n",
       "346437  200179.926937       True\n",
       "346436  200179.895299       True\n",
       "346434  200179.671481       True\n",
       "346472  200184.719148       True\n",
       "346477  200185.330124       True\n",
       "...               ...        ...\n",
       "278576  191582.612398      False\n",
       "410495  208282.933617      False\n",
       "339174  199260.809393      False\n",
       "278600  191585.026347      False\n",
       "278603  191585.278560      False\n",
       "278604  191585.330483      False\n",
       "356523  201460.652809      False\n",
       "433642  311158.135583      False\n",
       "278626  191588.269087      False\n",
       "410530  208286.641035      False\n",
       "309552  195513.761906      False\n",
       "356527  201461.566877      False\n",
       "278622  191588.133387      False\n",
       "278621  191587.676320      False\n",
       "278620  191587.539917      False\n",
       "356528  201461.644721      False\n",
       "309554  195513.987622      False\n",
       "410524  208285.872940      False\n",
       "433645  311165.225242      False\n",
       "356532  201462.017826      False\n",
       "278613  191586.475838      False\n",
       "278612  191586.446807      False\n",
       "309556  195514.218015      False\n",
       "309557  195514.275670      False\n",
       "278609  191585.622116      False\n",
       "410519  208285.485187      False\n",
       "278607  191585.557746      False\n",
       "410518  208285.086694      False\n",
       "309558  195514.332590      False\n",
       "413840  208710.861948      False\n",
       "\n",
       "[534953 rows x 2 columns]"
      ]
     },
     "execution_count": 12,
     "metadata": {},
     "output_type": "execute_result"
    }
   ],
   "source": [
    "df[['cdn', 'connected']].groupby(['cdn'], as_index=False).mean().sort_values(by='connected', ascending=False)"
   ]
  },
  {
   "cell_type": "code",
   "execution_count": 13,
   "metadata": {
    "scrolled": true
   },
   "outputs": [
    {
     "data": {
      "text/html": [
       "<div>\n",
       "<style scoped>\n",
       "    .dataframe tbody tr th:only-of-type {\n",
       "        vertical-align: middle;\n",
       "    }\n",
       "\n",
       "    .dataframe tbody tr th {\n",
       "        vertical-align: top;\n",
       "    }\n",
       "\n",
       "    .dataframe thead th {\n",
       "        text-align: right;\n",
       "    }\n",
       "</style>\n",
       "<table border=\"1\" class=\"dataframe\">\n",
       "  <thead>\n",
       "    <tr style=\"text-align: right;\">\n",
       "      <th></th>\n",
       "      <th>p2p</th>\n",
       "      <th>connected</th>\n",
       "    </tr>\n",
       "  </thead>\n",
       "  <tbody>\n",
       "    <tr>\n",
       "      <th>172519</th>\n",
       "      <td>177660.551718</td>\n",
       "      <td>1.000000</td>\n",
       "    </tr>\n",
       "    <tr>\n",
       "      <th>230022</th>\n",
       "      <td>200433.732208</td>\n",
       "      <td>1.000000</td>\n",
       "    </tr>\n",
       "    <tr>\n",
       "      <th>230030</th>\n",
       "      <td>200435.943398</td>\n",
       "      <td>1.000000</td>\n",
       "    </tr>\n",
       "    <tr>\n",
       "      <th>230029</th>\n",
       "      <td>200435.472607</td>\n",
       "      <td>1.000000</td>\n",
       "    </tr>\n",
       "    <tr>\n",
       "      <th>230028</th>\n",
       "      <td>200435.191713</td>\n",
       "      <td>1.000000</td>\n",
       "    </tr>\n",
       "    <tr>\n",
       "      <th>230027</th>\n",
       "      <td>200435.180574</td>\n",
       "      <td>1.000000</td>\n",
       "    </tr>\n",
       "    <tr>\n",
       "      <th>230026</th>\n",
       "      <td>200434.888899</td>\n",
       "      <td>1.000000</td>\n",
       "    </tr>\n",
       "    <tr>\n",
       "      <th>230025</th>\n",
       "      <td>200434.752035</td>\n",
       "      <td>1.000000</td>\n",
       "    </tr>\n",
       "    <tr>\n",
       "      <th>230024</th>\n",
       "      <td>200434.468457</td>\n",
       "      <td>1.000000</td>\n",
       "    </tr>\n",
       "    <tr>\n",
       "      <th>230023</th>\n",
       "      <td>200434.442077</td>\n",
       "      <td>1.000000</td>\n",
       "    </tr>\n",
       "    <tr>\n",
       "      <th>230021</th>\n",
       "      <td>200433.658930</td>\n",
       "      <td>1.000000</td>\n",
       "    </tr>\n",
       "    <tr>\n",
       "      <th>230137</th>\n",
       "      <td>200471.094690</td>\n",
       "      <td>1.000000</td>\n",
       "    </tr>\n",
       "    <tr>\n",
       "      <th>230020</th>\n",
       "      <td>200433.247957</td>\n",
       "      <td>1.000000</td>\n",
       "    </tr>\n",
       "    <tr>\n",
       "      <th>230019</th>\n",
       "      <td>200432.641498</td>\n",
       "      <td>1.000000</td>\n",
       "    </tr>\n",
       "    <tr>\n",
       "      <th>230018</th>\n",
       "      <td>200432.605350</td>\n",
       "      <td>1.000000</td>\n",
       "    </tr>\n",
       "    <tr>\n",
       "      <th>230017</th>\n",
       "      <td>200432.294830</td>\n",
       "      <td>1.000000</td>\n",
       "    </tr>\n",
       "    <tr>\n",
       "      <th>230016</th>\n",
       "      <td>200432.122000</td>\n",
       "      <td>1.000000</td>\n",
       "    </tr>\n",
       "    <tr>\n",
       "      <th>230015</th>\n",
       "      <td>200431.711035</td>\n",
       "      <td>1.000000</td>\n",
       "    </tr>\n",
       "    <tr>\n",
       "      <th>230014</th>\n",
       "      <td>200430.633329</td>\n",
       "      <td>1.000000</td>\n",
       "    </tr>\n",
       "    <tr>\n",
       "      <th>230013</th>\n",
       "      <td>200430.529208</td>\n",
       "      <td>1.000000</td>\n",
       "    </tr>\n",
       "    <tr>\n",
       "      <th>230031</th>\n",
       "      <td>200436.481137</td>\n",
       "      <td>1.000000</td>\n",
       "    </tr>\n",
       "    <tr>\n",
       "      <th>230032</th>\n",
       "      <td>200436.671132</td>\n",
       "      <td>1.000000</td>\n",
       "    </tr>\n",
       "    <tr>\n",
       "      <th>230033</th>\n",
       "      <td>200436.900479</td>\n",
       "      <td>1.000000</td>\n",
       "    </tr>\n",
       "    <tr>\n",
       "      <th>230034</th>\n",
       "      <td>200437.021961</td>\n",
       "      <td>1.000000</td>\n",
       "    </tr>\n",
       "    <tr>\n",
       "      <th>230051</th>\n",
       "      <td>200441.098543</td>\n",
       "      <td>1.000000</td>\n",
       "    </tr>\n",
       "    <tr>\n",
       "      <th>230050</th>\n",
       "      <td>200440.676325</td>\n",
       "      <td>1.000000</td>\n",
       "    </tr>\n",
       "    <tr>\n",
       "      <th>230049</th>\n",
       "      <td>200440.482963</td>\n",
       "      <td>1.000000</td>\n",
       "    </tr>\n",
       "    <tr>\n",
       "      <th>230048</th>\n",
       "      <td>200440.157647</td>\n",
       "      <td>1.000000</td>\n",
       "    </tr>\n",
       "    <tr>\n",
       "      <th>230047</th>\n",
       "      <td>200439.953134</td>\n",
       "      <td>1.000000</td>\n",
       "    </tr>\n",
       "    <tr>\n",
       "      <th>230046</th>\n",
       "      <td>200439.660272</td>\n",
       "      <td>1.000000</td>\n",
       "    </tr>\n",
       "    <tr>\n",
       "      <th>...</th>\n",
       "      <td>...</td>\n",
       "      <td>...</td>\n",
       "    </tr>\n",
       "    <tr>\n",
       "      <th>114994</th>\n",
       "      <td>131006.564796</td>\n",
       "      <td>1.000000</td>\n",
       "    </tr>\n",
       "    <tr>\n",
       "      <th>114993</th>\n",
       "      <td>131006.562858</td>\n",
       "      <td>1.000000</td>\n",
       "    </tr>\n",
       "    <tr>\n",
       "      <th>114992</th>\n",
       "      <td>131006.368898</td>\n",
       "      <td>1.000000</td>\n",
       "    </tr>\n",
       "    <tr>\n",
       "      <th>114991</th>\n",
       "      <td>131006.310964</td>\n",
       "      <td>1.000000</td>\n",
       "    </tr>\n",
       "    <tr>\n",
       "      <th>114990</th>\n",
       "      <td>131005.936532</td>\n",
       "      <td>1.000000</td>\n",
       "    </tr>\n",
       "    <tr>\n",
       "      <th>114989</th>\n",
       "      <td>131005.918056</td>\n",
       "      <td>1.000000</td>\n",
       "    </tr>\n",
       "    <tr>\n",
       "      <th>114988</th>\n",
       "      <td>131005.901956</td>\n",
       "      <td>1.000000</td>\n",
       "    </tr>\n",
       "    <tr>\n",
       "      <th>114987</th>\n",
       "      <td>131005.679722</td>\n",
       "      <td>1.000000</td>\n",
       "    </tr>\n",
       "    <tr>\n",
       "      <th>115004</th>\n",
       "      <td>131007.965537</td>\n",
       "      <td>1.000000</td>\n",
       "    </tr>\n",
       "    <tr>\n",
       "      <th>115006</th>\n",
       "      <td>131008.309634</td>\n",
       "      <td>1.000000</td>\n",
       "    </tr>\n",
       "    <tr>\n",
       "      <th>115025</th>\n",
       "      <td>131011.841108</td>\n",
       "      <td>1.000000</td>\n",
       "    </tr>\n",
       "    <tr>\n",
       "      <th>115007</th>\n",
       "      <td>131008.596230</td>\n",
       "      <td>1.000000</td>\n",
       "    </tr>\n",
       "    <tr>\n",
       "      <th>115024</th>\n",
       "      <td>131011.651158</td>\n",
       "      <td>1.000000</td>\n",
       "    </tr>\n",
       "    <tr>\n",
       "      <th>115023</th>\n",
       "      <td>131011.578206</td>\n",
       "      <td>1.000000</td>\n",
       "    </tr>\n",
       "    <tr>\n",
       "      <th>115022</th>\n",
       "      <td>131011.421156</td>\n",
       "      <td>1.000000</td>\n",
       "    </tr>\n",
       "    <tr>\n",
       "      <th>115021</th>\n",
       "      <td>131011.344320</td>\n",
       "      <td>1.000000</td>\n",
       "    </tr>\n",
       "    <tr>\n",
       "      <th>115020</th>\n",
       "      <td>131011.323577</td>\n",
       "      <td>1.000000</td>\n",
       "    </tr>\n",
       "    <tr>\n",
       "      <th>115019</th>\n",
       "      <td>131011.243714</td>\n",
       "      <td>1.000000</td>\n",
       "    </tr>\n",
       "    <tr>\n",
       "      <th>115018</th>\n",
       "      <td>131011.212791</td>\n",
       "      <td>1.000000</td>\n",
       "    </tr>\n",
       "    <tr>\n",
       "      <th>115017</th>\n",
       "      <td>131011.132416</td>\n",
       "      <td>1.000000</td>\n",
       "    </tr>\n",
       "    <tr>\n",
       "      <th>115016</th>\n",
       "      <td>131011.131330</td>\n",
       "      <td>1.000000</td>\n",
       "    </tr>\n",
       "    <tr>\n",
       "      <th>115015</th>\n",
       "      <td>131010.650316</td>\n",
       "      <td>1.000000</td>\n",
       "    </tr>\n",
       "    <tr>\n",
       "      <th>115014</th>\n",
       "      <td>131010.563780</td>\n",
       "      <td>1.000000</td>\n",
       "    </tr>\n",
       "    <tr>\n",
       "      <th>115013</th>\n",
       "      <td>131010.509249</td>\n",
       "      <td>1.000000</td>\n",
       "    </tr>\n",
       "    <tr>\n",
       "      <th>115012</th>\n",
       "      <td>131010.282783</td>\n",
       "      <td>1.000000</td>\n",
       "    </tr>\n",
       "    <tr>\n",
       "      <th>115011</th>\n",
       "      <td>131009.784259</td>\n",
       "      <td>1.000000</td>\n",
       "    </tr>\n",
       "    <tr>\n",
       "      <th>115010</th>\n",
       "      <td>131009.709039</td>\n",
       "      <td>1.000000</td>\n",
       "    </tr>\n",
       "    <tr>\n",
       "      <th>115009</th>\n",
       "      <td>131009.602388</td>\n",
       "      <td>1.000000</td>\n",
       "    </tr>\n",
       "    <tr>\n",
       "      <th>115008</th>\n",
       "      <td>131009.045050</td>\n",
       "      <td>1.000000</td>\n",
       "    </tr>\n",
       "    <tr>\n",
       "      <th>0</th>\n",
       "      <td>0.000000</td>\n",
       "      <td>0.740934</td>\n",
       "    </tr>\n",
       "  </tbody>\n",
       "</table>\n",
       "<p>345038 rows × 2 columns</p>\n",
       "</div>"
      ],
      "text/plain": [
       "                  p2p  connected\n",
       "172519  177660.551718   1.000000\n",
       "230022  200433.732208   1.000000\n",
       "230030  200435.943398   1.000000\n",
       "230029  200435.472607   1.000000\n",
       "230028  200435.191713   1.000000\n",
       "230027  200435.180574   1.000000\n",
       "230026  200434.888899   1.000000\n",
       "230025  200434.752035   1.000000\n",
       "230024  200434.468457   1.000000\n",
       "230023  200434.442077   1.000000\n",
       "230021  200433.658930   1.000000\n",
       "230137  200471.094690   1.000000\n",
       "230020  200433.247957   1.000000\n",
       "230019  200432.641498   1.000000\n",
       "230018  200432.605350   1.000000\n",
       "230017  200432.294830   1.000000\n",
       "230016  200432.122000   1.000000\n",
       "230015  200431.711035   1.000000\n",
       "230014  200430.633329   1.000000\n",
       "230013  200430.529208   1.000000\n",
       "230031  200436.481137   1.000000\n",
       "230032  200436.671132   1.000000\n",
       "230033  200436.900479   1.000000\n",
       "230034  200437.021961   1.000000\n",
       "230051  200441.098543   1.000000\n",
       "230050  200440.676325   1.000000\n",
       "230049  200440.482963   1.000000\n",
       "230048  200440.157647   1.000000\n",
       "230047  200439.953134   1.000000\n",
       "230046  200439.660272   1.000000\n",
       "...               ...        ...\n",
       "114994  131006.564796   1.000000\n",
       "114993  131006.562858   1.000000\n",
       "114992  131006.368898   1.000000\n",
       "114991  131006.310964   1.000000\n",
       "114990  131005.936532   1.000000\n",
       "114989  131005.918056   1.000000\n",
       "114988  131005.901956   1.000000\n",
       "114987  131005.679722   1.000000\n",
       "115004  131007.965537   1.000000\n",
       "115006  131008.309634   1.000000\n",
       "115025  131011.841108   1.000000\n",
       "115007  131008.596230   1.000000\n",
       "115024  131011.651158   1.000000\n",
       "115023  131011.578206   1.000000\n",
       "115022  131011.421156   1.000000\n",
       "115021  131011.344320   1.000000\n",
       "115020  131011.323577   1.000000\n",
       "115019  131011.243714   1.000000\n",
       "115018  131011.212791   1.000000\n",
       "115017  131011.132416   1.000000\n",
       "115016  131011.131330   1.000000\n",
       "115015  131010.650316   1.000000\n",
       "115014  131010.563780   1.000000\n",
       "115013  131010.509249   1.000000\n",
       "115012  131010.282783   1.000000\n",
       "115011  131009.784259   1.000000\n",
       "115010  131009.709039   1.000000\n",
       "115009  131009.602388   1.000000\n",
       "115008  131009.045050   1.000000\n",
       "0            0.000000   0.740934\n",
       "\n",
       "[345038 rows x 2 columns]"
      ]
     },
     "execution_count": 13,
     "metadata": {},
     "output_type": "execute_result"
    }
   ],
   "source": [
    "df[['p2p', 'connected']].groupby(['p2p'], as_index=False).mean().sort_values(by='connected', ascending=False)"
   ]
  },
  {
   "cell_type": "markdown",
   "metadata": {},
   "source": [
    "## Plotting the dataset"
   ]
  },
  {
   "cell_type": "markdown",
   "metadata": {},
   "source": [
    "Conclusions from this graph:\n",
    "\n",
    "* There are almost half of the streams where there is little or no data streamed at all;\n",
    "* In two streams the amount of data streamed via CDN and P2P is similar;\n",
    "* There are two peaks (streams 4 and 8) where CDN data is about twice bigger compared to P2P;\n",
    "* In two streams the amount of data streaned via CDN is highly dominant compared to P2P."
   ]
  },
  {
   "cell_type": "code",
   "execution_count": 15,
   "metadata": {
    "scrolled": true
   },
   "outputs": [
    {
     "data": {
      "text/plain": [
       "<matplotlib.axes._subplots.AxesSubplot at 0x1dbe96b9e10>"
      ]
     },
     "execution_count": 15,
     "metadata": {},
     "output_type": "execute_result"
    },
    {
     "data": {
      "image/png": "[encoded data removed]",
      "text/plain": [
       "<Figure size 432x288 with 1 Axes>"
      ]
     },
     "metadata": {
      "needs_background": "light"
     },
     "output_type": "display_data"
    }
   ],
   "source": [
    "df.plot()"
   ]
  },
  {
   "cell_type": "markdown",
   "metadata": {},
   "source": [
    "## Understanding ISP distribution"
   ]
  },
  {
   "cell_type": "markdown",
   "metadata": {},
   "source": [
    "**Conclusions:**\n",
    "\n",
    "* The majority of the data sent over CDN is realized via 3 ISPs;\n",
    "* Almost all P2P data is sent via only one ISP - BTP;\n",
    "* Datch Telecam is experiencing problems with connection to the backend."
   ]
  },
  {
   "cell_type": "code",
   "execution_count": 16,
   "metadata": {
    "scrolled": false
   },
   "outputs": [
    {
     "data": {
      "text/plain": [
       "<matplotlib.axes._subplots.AxesSubplot at 0x1dbeb5b0f98>"
      ]
     },
     "execution_count": 16,
     "metadata": {},
     "output_type": "execute_result"
    },
    {
     "data": {
      "image/png": "[encoded data removed]",
      "text/plain": [
       "<Figure size 432x288 with 1 Axes>"
      ]
     },
     "metadata": {
      "needs_background": "light"
     },
     "output_type": "display_data"
    }
   ],
   "source": [
    "df.groupby(\"isp\")['cdn'].mean().plot(kind='bar')"
   ]
  },
  {
   "cell_type": "code",
   "execution_count": 17,
   "metadata": {},
   "outputs": [
    {
     "data": {
      "text/plain": [
       "<matplotlib.axes._subplots.AxesSubplot at 0x1dbeb5b80b8>"
      ]
     },
     "execution_count": 17,
     "metadata": {},
     "output_type": "execute_result"
    },
    {
     "data": {
      "image/png": "[encoded data removed]",
      "text/plain": [
       "<Figure size 432x288 with 1 Axes>"
      ]
     },
     "metadata": {
      "needs_background": "light"
     },
     "output_type": "display_data"
    }
   ],
   "source": [
    "df.groupby(\"isp\")['p2p'].mean().plot(kind='bar')"
   ]
  },
  {
   "cell_type": "code",
   "execution_count": 18,
   "metadata": {},
   "outputs": [
    {
     "data": {
      "text/plain": [
       "<matplotlib.axes._subplots.AxesSubplot at 0x1dbec484828>"
      ]
     },
     "execution_count": 18,
     "metadata": {},
     "output_type": "execute_result"
    },
    {
     "data": {
      "image/png": "[encoded data removed]",
      "text/plain": [
       "<Figure size 432x288 with 1 Axes>"
      ]
     },
     "metadata": {
      "needs_background": "light"
     },
     "output_type": "display_data"
    }
   ],
   "source": [
    "df.groupby(\"isp\")['connected'].mean().plot(kind='bar')"
   ]
  },
  {
   "cell_type": "markdown",
   "metadata": {},
   "source": [
    "## Understanding browser distribution"
   ]
  },
  {
   "cell_type": "markdown",
   "metadata": {},
   "source": [
    "**Conclusions:**\n",
    "\n",
    "* EarthWolf and Iron browsers have supported the majority of the CDN data;\n",
    "* Almost no P2P data was sent over Vectrice, while also only little P2P data was sent over Swamp;\n",
    "* Any browser in particular didn't have connection problems."
   ]
  },
  {
   "cell_type": "code",
   "execution_count": 19,
   "metadata": {},
   "outputs": [
    {
     "data": {
      "text/plain": [
       "<matplotlib.axes._subplots.AxesSubplot at 0x1dbec46c6a0>"
      ]
     },
     "execution_count": 19,
     "metadata": {},
     "output_type": "execute_result"
    },
    {
     "data": {
      "image/png": "[encoded data removed]",
      "text/plain": [
       "<Figure size 432x288 with 1 Axes>"
      ]
     },
     "metadata": {
      "needs_background": "light"
     },
     "output_type": "display_data"
    }
   ],
   "source": [
    "df.groupby(\"browser\")['cdn'].mean().plot(kind='bar')"
   ]
  },
  {
   "cell_type": "code",
   "execution_count": 20,
   "metadata": {},
   "outputs": [
    {
     "data": {
      "text/plain": [
       "<matplotlib.axes._subplots.AxesSubplot at 0x1dbebb75978>"
      ]
     },
     "execution_count": 20,
     "metadata": {},
     "output_type": "execute_result"
    },
    {
     "data": {
      "image/png": "[encoded data removed]",
      "text/plain": [
       "<Figure size 432x288 with 1 Axes>"
      ]
     },
     "metadata": {
      "needs_background": "light"
     },
     "output_type": "display_data"
    }
   ],
   "source": [
    "df.groupby(\"browser\")['p2p'].mean().plot(kind='bar')"
   ]
  },
  {
   "cell_type": "code",
   "execution_count": 21,
   "metadata": {},
   "outputs": [
    {
     "data": {
      "text/plain": [
       "<matplotlib.axes._subplots.AxesSubplot at 0x1dbec4b9d30>"
      ]
     },
     "execution_count": 21,
     "metadata": {},
     "output_type": "execute_result"
    },
    {
     "data": {
      "image/png": "[encoded data removed]",
      "text/plain": [
       "<Figure size 432x288 with 1 Axes>"
      ]
     },
     "metadata": {
      "needs_background": "light"
     },
     "output_type": "display_data"
    }
   ],
   "source": [
    "df.groupby(\"browser\")['connected'].mean().plot(kind='bar')"
   ]
  },
  {
   "cell_type": "markdown",
   "metadata": {},
   "source": [
    "## Overall comparison"
   ]
  },
  {
   "cell_type": "markdown",
   "metadata": {},
   "source": [
    "### Let's see the combinations ISP - Browser:"
   ]
  },
  {
   "cell_type": "markdown",
   "metadata": {},
   "source": [
    "**Conclusions:**\n",
    "\n",
    "* ISP-s Olga and Datch Telecam generally handle less CDN data;\n",
    "* The majority of CDN data is sent over browsers Iron and EarthWolf in combination with Arange, Fro and BTP ISPs;\n",
    "* Almost all P2P data is sent over two (three) combinations:\n",
    "    * Iron - BTP;\n",
    "    * EarthWolf - Fro;\n",
    "    * (Swamp - BTP).\n",
    "* Four combinations are experiencing connection problems:\n",
    "    * Iron - Olga;\n",
    "    * EarthWolf - Olga;\n",
    "    * Vectrice - Datch Telecam;\n",
    "    * Swamp - Datch Telecam."
   ]
  },
  {
   "cell_type": "code",
   "execution_count": 23,
   "metadata": {},
   "outputs": [
    {
     "name": "stderr",
     "output_type": "stream",
     "text": [
      "C:\\Users\\luka\\Anaconda3\\lib\\site-packages\\seaborn\\axisgrid.py:715: UserWarning: Using the pointplot function without specifying `order` is likely to produce an incorrect plot.\n",
      "  warnings.warn(warning)\n",
      "C:\\Users\\luka\\Anaconda3\\lib\\site-packages\\scipy\\stats\\stats.py:1713: FutureWarning: Using a non-tuple sequence for multidimensional indexing is deprecated; use `arr[tuple(seq)]` instead of `arr[seq]`. In the future this will be interpreted as an array index, `arr[np.array(seq)]`, which will result either in an error or a different result.\n",
      "  return np.add.reduce(sorted[indexer] * weights, axis=axis) / sumval\n"
     ]
    },
    {
     "data": {
      "text/plain": [
       "<seaborn.axisgrid.FacetGrid at 0x1dbed479a20>"
      ]
     },
     "execution_count": 23,
     "metadata": {},
     "output_type": "execute_result"
    },
    {
     "data": {
      "image/png": "[encoded data removed]",
      "text/plain": [
       "<Figure size 440x864 with 4 Axes>"
      ]
     },
     "metadata": {
      "needs_background": "light"
     },
     "output_type": "display_data"
    }
   ],
   "source": [
    "# visualization\n",
    "import seaborn as sns\n",
    "\n",
    "grid = sns.FacetGrid(df, row='browser', height=3, aspect=2)\n",
    "grid.map(sns.pointplot, 'isp', 'cdn', palette='deep')\n",
    "grid.add_legend()"
   ]
  },
  {
   "cell_type": "code",
   "execution_count": 24,
   "metadata": {},
   "outputs": [
    {
     "name": "stderr",
     "output_type": "stream",
     "text": [
      "C:\\Users\\luka\\Anaconda3\\lib\\site-packages\\seaborn\\axisgrid.py:715: UserWarning: Using the pointplot function without specifying `order` is likely to produce an incorrect plot.\n",
      "  warnings.warn(warning)\n",
      "C:\\Users\\luka\\Anaconda3\\lib\\site-packages\\scipy\\stats\\stats.py:1713: FutureWarning: Using a non-tuple sequence for multidimensional indexing is deprecated; use `arr[tuple(seq)]` instead of `arr[seq]`. In the future this will be interpreted as an array index, `arr[np.array(seq)]`, which will result either in an error or a different result.\n",
      "  return np.add.reduce(sorted[indexer] * weights, axis=axis) / sumval\n"
     ]
    },
    {
     "data": {
      "text/plain": [
       "<seaborn.axisgrid.FacetGrid at 0x1dbf6a10eb8>"
      ]
     },
     "execution_count": 24,
     "metadata": {},
     "output_type": "execute_result"
    },
    {
     "data": {
      "image/png": "[encoded data removed]",
      "text/plain": [
       "<Figure size 440x864 with 4 Axes>"
      ]
     },
     "metadata": {
      "needs_background": "light"
     },
     "output_type": "display_data"
    }
   ],
   "source": [
    "grid = sns.FacetGrid(df, row='browser', height=3, aspect=2)\n",
    "grid.map(sns.pointplot, 'isp', 'p2p', palette='deep')\n",
    "grid.add_legend()"
   ]
  },
  {
   "cell_type": "code",
   "execution_count": 25,
   "metadata": {},
   "outputs": [
    {
     "name": "stderr",
     "output_type": "stream",
     "text": [
      "C:\\Users\\luka\\Anaconda3\\lib\\site-packages\\seaborn\\axisgrid.py:230: UserWarning: The `size` paramter has been renamed to `height`; please update your code.\n",
      "  warnings.warn(msg, UserWarning)\n",
      "C:\\Users\\luka\\Anaconda3\\lib\\site-packages\\seaborn\\axisgrid.py:715: UserWarning: Using the pointplot function without specifying `order` is likely to produce an incorrect plot.\n",
      "  warnings.warn(warning)\n",
      "C:\\Users\\luka\\Anaconda3\\lib\\site-packages\\scipy\\stats\\stats.py:1713: FutureWarning: Using a non-tuple sequence for multidimensional indexing is deprecated; use `arr[tuple(seq)]` instead of `arr[seq]`. In the future this will be interpreted as an array index, `arr[np.array(seq)]`, which will result either in an error or a different result.\n",
      "  return np.add.reduce(sorted[indexer] * weights, axis=axis) / sumval\n"
     ]
    },
    {
     "data": {
      "text/plain": [
       "<seaborn.axisgrid.FacetGrid at 0x1dbf84f6b00>"
      ]
     },
     "execution_count": 25,
     "metadata": {},
     "output_type": "execute_result"
    },
    {
     "data": {
      "image/png": "[encoded data removed]",
      "text/plain": [
       "<Figure size 440x864 with 4 Axes>"
      ]
     },
     "metadata": {
      "needs_background": "light"
     },
     "output_type": "display_data"
    }
   ],
   "source": [
    "grid = sns.FacetGrid(df, row='browser', size=3, aspect=2)\n",
    "grid.map(sns.pointplot, 'isp', 'connected', palette='deep')\n",
    "grid.add_legend()"
   ]
  },
  {
   "cell_type": "markdown",
   "metadata": {},
   "source": [
    "## Where the service should be improved:\n",
    "\n",
    "**Conclusions:**\n",
    "\n",
    "### CDN data\n",
    "\n",
    "* EarthWolf and Iron browsers have supported the majority of the CDN data;\n",
    "* The majority of the data sent over CDN is realized via 3 ISPs;\n",
    "* _ISP-s Olga and Datch Telecam generally handle less CDN data;_\n",
    "* The majority of CDN data is sent over browsers Iron and EarthWolf in combination with Arange, Fro and BTP ISPs;\n",
    "\n",
    "\n",
    "### P2P data\n",
    "\n",
    "* _Almost all P2P data is sent via only one ISP - BTP._\n",
    "* **Speaking of browsers, almost no P2P data was sent over Vectrice, while also very little P2P data was sent over Swamp;**\n",
    "* Almost all P2P data is sent over two (three) combinations:\n",
    "    * Iron - BTP;\n",
    "    * EarthWolf - Fro;\n",
    "    * (Swamp - BTP).\n",
    "\n",
    "\n",
    "### Connection to backend\n",
    "\n",
    "* _About 9.2% of all data points didn't manage to connect to backend;_\n",
    "* **Four ISP - browser combinations are experiencing connection problems:**\n",
    "    * Iron - Olga;\n",
    "    * EarthWolf - Olga;\n",
    "    * Vectrice - Datch Telecam;\n",
    "    * Swamp - Datch Telecam.    \n",
    "\n",
    "While any browser in particular didn't have connection problems (except Iron), **_one ISP had the biggest issue with connection - Datch Telecam;_**"
   ]
  }
 ],
 "metadata": {
  "kernelspec": {
   "display_name": "Python 3",
   "language": "python",
   "name": "python3"
  },
  "language_info": {
   "codemirror_mode": {
    "name": "ipython",
    "version": 3
   },
   "file_extension": ".py",
   "mimetype": "text/x-python",
   "name": "python",
   "nbconvert_exporter": "python",
   "pygments_lexer": "ipython3",
   "version": "3.7.0"
  }
 },
 "nbformat": 4,
 "nbformat_minor": 2
}
